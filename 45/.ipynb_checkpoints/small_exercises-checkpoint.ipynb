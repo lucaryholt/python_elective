{
 "cells": [
  {
   "cell_type": "markdown",
   "metadata": {},
   "source": [
    "## Small exercises"
   ]
  },
  {
   "cell_type": "code",
   "execution_count": 2,
   "metadata": {},
   "outputs": [
    {
     "name": "stdout",
     "output_type": "stream",
     "text": [
      "heyo\n",
      "heyo\n"
     ]
    }
   ],
   "source": [
    "import time\n",
    "\n",
    "def timestamp(func):\n",
    "    def wrapper(*args):\n",
    "        result = func(*args)\n",
    "        with open('log.txt', 'a') as f:\n",
    "            f.write('Function \"' + func.__name__ + '\" was called on timestamp: ' + str(time.time()) + '. \\nResult was: ' + str(result) + '\\n\\n')\n",
    "    return wrapper\n",
    "\n",
    "@timestamp\n",
    "def add(*args):\n",
    "    sum = 0\n",
    "    for i in args:\n",
    "        sum += i\n",
    "    return sum\n",
    "\n",
    "add(1,2,6)\n",
    "\n",
    "@timestamp\n",
    "def printer(text):\n",
    "    print(text)\n",
    "    print(text)\n",
    "\n",
    "printer('heyo')"
   ]
  },
  {
   "cell_type": "code",
   "execution_count": null,
   "metadata": {},
   "outputs": [],
   "source": []
  }
 ],
 "metadata": {
  "kernelspec": {
   "display_name": "Python 3",
   "language": "python",
   "name": "python3"
  },
  "language_info": {
   "codemirror_mode": {
    "name": "ipython",
    "version": 3
   },
   "file_extension": ".py",
   "mimetype": "text/x-python",
   "name": "python",
   "nbconvert_exporter": "python",
   "pygments_lexer": "ipython3",
   "version": "3.8.6"
  }
 },
 "nbformat": 4,
 "nbformat_minor": 4
}
