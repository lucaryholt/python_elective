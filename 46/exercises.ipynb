{
 "cells": [
  {
   "cell_type": "markdown",
   "metadata": {},
   "source": [
    "### Ex1: Python Students"
   ]
  },
  {
   "cell_type": "code",
   "execution_count": 15,
   "metadata": {},
   "outputs": [],
   "source": [
    "class PythonStudents:\n",
    "    def __init__(self):\n",
    "        self.students = []\n",
    "    \n",
    "    def addStudent(self, student):\n",
    "        self.students.append(student)\n",
    "    \n",
    "    def __iter__(self):\n",
    "        self.last = 0\n",
    "        return self\n",
    "    \n",
    "    def __next__(self):\n",
    "        self.last += 1\n",
    "        if self.last > len(self.students):\n",
    "            raise StopIteration()\n",
    "        return self.students[self.last - 1]\n",
    "\n",
    "\n",
    "class Student:\n",
    "    def __init__(self, name, cpr):\n",
    "        self.name = name\n",
    "        self.cpr = cpr\n",
    "\n",
    "    @property\n",
    "    def name(self):\n",
    "        return self.__name\n",
    "\n",
    "    @name.setter\n",
    "    def name(self, name):\n",
    "        self.__name = name.capitalize()\n",
    "\n",
    "    def __add__(self, student):\n",
    "        return Student('Anna the daugther', 1234)\n",
    "\n",
    "    def __str__(self):\n",
    "        return f'{self.name}, {self.cpr}'\n",
    "\n",
    "    def __repr__(self):\n",
    "        return f'{self.__dict__}'"
   ]
  },
  {
   "cell_type": "code",
   "execution_count": 20,
   "metadata": {},
   "outputs": [
    {
     "name": "stdout",
     "output_type": "stream",
     "text": [
      "Bob, 1234\n",
      "Lars, 123124124\n"
     ]
    }
   ],
   "source": [
    "pyStu = PythonStudents()\n",
    "pyStu.addStudent(Student('Bob', 1234))\n",
    "pyStu.addStudent(Student('Lars', 123124124))\n",
    "\n",
    "for stu in pyStu:\n",
    "    print(stu)"
   ]
  },
  {
   "cell_type": "markdown",
   "metadata": {},
   "source": [
    "### Ex2: School of students"
   ]
  },
  {
   "cell_type": "code",
   "execution_count": 6,
   "metadata": {},
   "outputs": [
    {
     "name": "stdout",
     "output_type": "stream",
     "text": [
      "Time elapsed: 4.76837158203125e-07\n"
     ]
    }
   ],
   "source": [
    "import random\n",
    "import time\n",
    "\n",
    "def timer(func):\n",
    "    def wrapper(*args):\n",
    "        start = time.time()\n",
    "        val = func(*args)\n",
    "        end = (time.time()) - start\n",
    "        print(f'Time elapsed: {end}')\n",
    "        return val\n",
    "    return wrapper\n",
    "\n",
    "names = ['John', 'Corey', 'Adam', 'Steve', 'Rick', 'Thomas']\n",
    "majors = ['Math', 'Engineering', 'CompSci', 'Arts', 'Business']\n",
    "\n",
    "@timer\n",
    "def students_list(num_students):\n",
    "    result = []\n",
    "    for i in range(num_students):\n",
    "        student = {\n",
    "            'id': i,\n",
    "            'name': random.choice(names),\n",
    "            'major': random.choice(majors)\n",
    "        }\n",
    "        result.append(student)\n",
    "    return result\n",
    "\n",
    "@timer\n",
    "def students_generator(num_students):\n",
    "    for i in range(num_students):\n",
    "        student = {\n",
    "            'id': i,\n",
    "            'name': random.choice(names),\n",
    "            'major': random.choice(majors)\n",
    "        }\n",
    "        yield student\n",
    "\n",
    "#peopleList = students_list(1000000)\n",
    "peopleGenerator = students_generator(1000000)"
   ]
  },
  {
   "cell_type": "markdown",
   "metadata": {},
   "source": [
    "### Ex3: Range Mimic (later)"
   ]
  },
  {
   "cell_type": "code",
   "execution_count": null,
   "metadata": {},
   "outputs": [],
   "source": []
  }
 ],
 "metadata": {
  "kernelspec": {
   "display_name": "Python 3",
   "language": "python",
   "name": "python3"
  },
  "language_info": {
   "codemirror_mode": {
    "name": "ipython",
    "version": 3
   },
   "file_extension": ".py",
   "mimetype": "text/x-python",
   "name": "python",
   "nbconvert_exporter": "python",
   "pygments_lexer": "ipython3",
   "version": "3.8.6"
  }
 },
 "nbformat": 4,
 "nbformat_minor": 4
}
