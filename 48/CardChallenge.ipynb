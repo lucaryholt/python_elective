{
 "cells": [
  {
   "cell_type": "markdown",
   "metadata": {},
   "source": [
    "# https://github.com/python-elective-kea/fall2020/blob/master/sphinx/source/notebooks/CardChallenge.ipynb"
   ]
  },
  {
   "cell_type": "code",
   "execution_count": 4,
   "metadata": {},
   "outputs": [],
   "source": [
    "import random\n",
    "import string\n",
    "\n",
    "def generate():\n",
    "    cards = []\n",
    "    \n",
    "    for i in range(4):\n",
    "        s = random.choice(string.ascii_uppercase)\n",
    "        d = random.randrange(10)\n",
    "        r = random.randint(0,1)\n",
    "        \n",
    "        if r == 0:\n",
    "            cards.append({s, d})\n",
    "        else:\n",
    "            cards.append({d, s})\n",
    "        \n",
    "    \n",
    "    return tuple(cards)"
   ]
  },
  {
   "cell_type": "code",
   "execution_count": 5,
   "metadata": {},
   "outputs": [
    {
     "data": {
      "text/plain": [
       "({7, 'K'}, {9, 'Q'}, {4, 'L'}, {8, 'H'})"
      ]
     },
     "execution_count": 5,
     "metadata": {},
     "output_type": "execute_result"
    }
   ],
   "source": [
    "generate()"
   ]
  },
  {
   "cell_type": "code",
   "execution_count": null,
   "metadata": {},
   "outputs": [],
   "source": []
  }
 ],
 "metadata": {
  "kernelspec": {
   "display_name": "Python 3",
   "language": "python",
   "name": "python3"
  },
  "language_info": {
   "codemirror_mode": {
    "name": "ipython",
    "version": 3
   },
   "file_extension": ".py",
   "mimetype": "text/x-python",
   "name": "python",
   "nbconvert_exporter": "python",
   "pygments_lexer": "ipython3",
   "version": "3.8.6"
  }
 },
 "nbformat": 4,
 "nbformat_minor": 4
}
