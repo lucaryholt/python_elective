{
 "cells": [
  {
   "cell_type": "markdown",
   "metadata": {},
   "source": [
    "<img src=\"./Images/python-logo.png\" width=\"150\" height=\"150\">\n",
    "\n",
    "# Python modules and the python developments environment\n",
    "\n",
    "### Emner\n",
    "- Køre Python kode\n",
    "  - Læringsmiljø\n",
    "    - REPL\n",
    "    - Jupyter\n",
    "  - Udviklingsmiljø\n",
    "    - Command line\n",
    "    - Docker\n",
    "- Modules & Packages"
   ]
  },
  {
   "cell_type": "markdown",
   "metadata": {},
   "source": [
    "---"
   ]
  },
  {
   "cell_type": "markdown",
   "metadata": {},
   "source": [
    "## Køre Python kode"
   ]
  },
  {
   "cell_type": "markdown",
   "metadata": {},
   "source": [
    "### Læringsmiljø"
   ]
  },
  {
   "cell_type": "markdown",
   "metadata": {},
   "source": [
    "#### REPL\n",
    "\n",
    "*Read, Evaluate, Print, Loop*\n",
    "\n",
    "<img src=\"./Images/python-repl.png\" width=\"650\">"
   ]
  },
  {
   "cell_type": "code",
   "execution_count": null,
   "metadata": {},
   "outputs": [],
   "source": []
  }
 ],
 "metadata": {
  "kernelspec": {
   "display_name": "Python 3",
   "language": "python",
   "name": "python3"
  },
  "language_info": {
   "codemirror_mode": {
    "name": "ipython",
    "version": 3
   },
   "file_extension": ".py",
   "mimetype": "text/x-python",
   "name": "python",
   "nbconvert_exporter": "python",
   "pygments_lexer": "ipython3",
   "version": "3.8.6"
  }
 },
 "nbformat": 4,
 "nbformat_minor": 4
}
