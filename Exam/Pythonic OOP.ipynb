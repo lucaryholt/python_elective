{
 "cells": [
  {
   "cell_type": "markdown",
   "metadata": {},
   "source": [
    "<img src=\"./Images/python-logo.png\" width=\"150\" height=\"150\">\n",
    "\n",
    "# Pythonic OOP\n",
    "\n",
    "- Classes\n",
    "- Encapsulation\n",
    "- Data Model / Magic Methods"
   ]
  },
  {
   "cell_type": "markdown",
   "metadata": {},
   "source": [
    "## Classes"
   ]
  },
  {
   "cell_type": "code",
   "execution_count": 1,
   "metadata": {},
   "outputs": [],
   "source": [
    "class Avenger:\n",
    "    def __init__(self, name, power):\n",
    "        self.name = name\n",
    "        self.power = power"
   ]
  },
  {
   "cell_type": "code",
   "execution_count": 2,
   "metadata": {},
   "outputs": [],
   "source": [
    "thor = Avenger('Thor', 1000)"
   ]
  },
  {
   "cell_type": "code",
   "execution_count": 3,
   "metadata": {},
   "outputs": [
    {
     "data": {
      "text/plain": [
       "'Thor'"
      ]
     },
     "execution_count": 3,
     "metadata": {},
     "output_type": "execute_result"
    }
   ],
   "source": [
    "thor.name"
   ]
  },
  {
   "cell_type": "code",
   "execution_count": 4,
   "metadata": {},
   "outputs": [],
   "source": [
    "thor.power = 'Not a power!'"
   ]
  },
  {
   "cell_type": "markdown",
   "metadata": {},
   "source": [
    "## Encapsulation"
   ]
  },
  {
   "cell_type": "code",
   "execution_count": 5,
   "metadata": {},
   "outputs": [],
   "source": [
    "class EncapAvenger:\n",
    "    def __init__(self, name, power):\n",
    "        self.name = name\n",
    "        self.power = power\n",
    "        \n",
    "    @property\n",
    "    def power(self):\n",
    "        return self.__power\n",
    "    \n",
    "    @power.setter\n",
    "    def power(self, power):\n",
    "        if isinstance(power, int):\n",
    "            self.__power = power\n",
    "        else:\n",
    "            print('Power needs to be int!')"
   ]
  },
  {
   "cell_type": "code",
   "execution_count": 6,
   "metadata": {},
   "outputs": [],
   "source": [
    "cap_america = EncapAvenger('Captain America', 1200)"
   ]
  },
  {
   "cell_type": "code",
   "execution_count": 7,
   "metadata": {},
   "outputs": [
    {
     "data": {
      "text/plain": [
       "1200"
      ]
     },
     "execution_count": 7,
     "metadata": {},
     "output_type": "execute_result"
    }
   ],
   "source": [
    "cap_america.power"
   ]
  },
  {
   "cell_type": "code",
   "execution_count": 8,
   "metadata": {},
   "outputs": [
    {
     "name": "stdout",
     "output_type": "stream",
     "text": [
      "Power needs to be int!\n"
     ]
    }
   ],
   "source": [
    "cap_america.power = 'Not a power!'"
   ]
  },
  {
   "cell_type": "code",
   "execution_count": 9,
   "metadata": {},
   "outputs": [],
   "source": [
    "cap_america.power = 123"
   ]
  },
  {
   "cell_type": "code",
   "execution_count": 10,
   "metadata": {},
   "outputs": [
    {
     "data": {
      "text/plain": [
       "123"
      ]
     },
     "execution_count": 10,
     "metadata": {},
     "output_type": "execute_result"
    }
   ],
   "source": [
    "cap_america.power"
   ]
  },
  {
   "cell_type": "markdown",
   "metadata": {},
   "source": [
    "## Data Model / Magic Methods"
   ]
  },
  {
   "cell_type": "markdown",
   "metadata": {},
   "source": [
    "### The problem"
   ]
  },
  {
   "cell_type": "code",
   "execution_count": 11,
   "metadata": {},
   "outputs": [],
   "source": [
    "class Rocinante:\n",
    "    def __init__(self, crew):\n",
    "        self.crew = crew\n",
    "        \n",
    "roci = Rocinante(['Holden', 'Naomi', 'Amos', 'Alex'])"
   ]
  },
  {
   "cell_type": "code",
   "execution_count": 12,
   "metadata": {},
   "outputs": [
    {
     "ename": "TypeError",
     "evalue": "'Rocinante' object is not iterable",
     "output_type": "error",
     "traceback": [
      "\u001b[0;31m---------------------------------------------------------------------------\u001b[0m",
      "\u001b[0;31mTypeError\u001b[0m                                 Traceback (most recent call last)",
      "\u001b[0;32m<ipython-input-12-f8ed58430c3c>\u001b[0m in \u001b[0;36m<module>\u001b[0;34m\u001b[0m\n\u001b[0;32m----> 1\u001b[0;31m \u001b[0;32mfor\u001b[0m \u001b[0mcrewmember\u001b[0m \u001b[0;32min\u001b[0m \u001b[0mroci\u001b[0m\u001b[0;34m:\u001b[0m\u001b[0;34m\u001b[0m\u001b[0;34m\u001b[0m\u001b[0m\n\u001b[0m\u001b[1;32m      2\u001b[0m     \u001b[0mprint\u001b[0m\u001b[0;34m(\u001b[0m\u001b[0mcrewmember\u001b[0m\u001b[0;34m)\u001b[0m\u001b[0;34m\u001b[0m\u001b[0;34m\u001b[0m\u001b[0m\n",
      "\u001b[0;31mTypeError\u001b[0m: 'Rocinante' object is not iterable"
     ]
    }
   ],
   "source": [
    "for crewmember in roci:\n",
    "    print(crewmember)"
   ]
  },
  {
   "cell_type": "markdown",
   "metadata": {},
   "source": [
    "### The solution\n",
    "\n",
    "- Iterable\n",
    "- *iter* and *next*\n",
    "- Almost like interfaces in Java"
   ]
  },
  {
   "cell_type": "code",
   "execution_count": 13,
   "metadata": {},
   "outputs": [],
   "source": [
    "class RocinanteItr:\n",
    "    def __init__(self, crew):\n",
    "        self.index = -1\n",
    "        self.crew = crew\n",
    "        \n",
    "    def __iter__(self):\n",
    "        return self\n",
    "    \n",
    "    def __next__(self):\n",
    "        self.index += 1\n",
    "        if self.index < len(self.crew):\n",
    "            return self.crew[self.index]\n",
    "        else:\n",
    "            raise StopIteration\n",
    "        \n",
    "roci_itr = RocinanteItr(['Holden', 'Naomi', 'Amos', 'Alex'])"
   ]
  },
  {
   "cell_type": "code",
   "execution_count": 14,
   "metadata": {},
   "outputs": [
    {
     "name": "stdout",
     "output_type": "stream",
     "text": [
      "Holden\n",
      "Naomi\n",
      "Amos\n",
      "Alex\n"
     ]
    }
   ],
   "source": [
    "for crewmember in roci_itr:\n",
    "    print(crewmember)"
   ]
  },
  {
   "cell_type": "markdown",
   "metadata": {},
   "source": [
    "### Linked List"
   ]
  },
  {
   "cell_type": "code",
   "execution_count": 15,
   "metadata": {},
   "outputs": [],
   "source": [
    "class LinkedList:\n",
    "    def __init__(self):\n",
    "        self.__head = None\n",
    "        self.__nr_of_nodes = 0\n",
    "\n",
    "    def __add__(self, data):\n",
    "        if self.__head == None:\n",
    "            self.__head = Node(data)\n",
    "            self.__nr_of_nodes += 1\n",
    "        else:\n",
    "            current_node = self.__head\n",
    "            while(current_node.next != None):\n",
    "                current_node = current_node.next\n",
    "            current_node.next = Node(data)\n",
    "            self.__nr_of_nodes += 1\n",
    "\n",
    "    def append(self, data):\n",
    "        self.__add__(data)\n",
    "\n",
    "    def clear(self):\n",
    "        self.__nr_of_nodes = 0\n",
    "        self.__head = None\n",
    "\n",
    "    def __contains__(self, data):\n",
    "        current_node = self.__head\n",
    "        while(current_node != None):\n",
    "            if current_node.data == data:\n",
    "                return True\n",
    "            current_node = current_node.next\n",
    "        return False\n",
    "\n",
    "    def __iter__(self):\n",
    "        self.__current_iter_node = self.__head\n",
    "        return self\n",
    "    \n",
    "    def __next__(self):\n",
    "        current = self.__current_iter_node\n",
    "        try:\n",
    "            data = current.data\n",
    "        except AttributeError:\n",
    "            raise StopIteration\n",
    "        self.__current_iter_node = current.next\n",
    "        return data\n",
    "\n",
    "    def __len__(self):\n",
    "        return self.__nr_of_nodes\n",
    "\n",
    "    def __repr__(self):\n",
    "        if self.__head == None:\n",
    "            return 'list empty'\n",
    "        else:\n",
    "            temp_list = []\n",
    "            current_node = self.__head\n",
    "            while(current_node != None):\n",
    "                temp_list.append(current_node.data)\n",
    "                current_node = current_node.next\n",
    "            return str(temp_list)\n",
    "\n",
    "class Node:\n",
    "    def __init__(self, data):\n",
    "        self.data = data\n",
    "        self.next = None"
   ]
  },
  {
   "cell_type": "code",
   "execution_count": 16,
   "metadata": {},
   "outputs": [],
   "source": [
    "link_list = LinkedList()\n",
    "\n",
    "link_list + 'one element'\n",
    "link_list.append('another element')"
   ]
  },
  {
   "cell_type": "code",
   "execution_count": 17,
   "metadata": {},
   "outputs": [
    {
     "name": "stdout",
     "output_type": "stream",
     "text": [
      "['one element', 'another element']\n"
     ]
    }
   ],
   "source": [
    "print(link_list)"
   ]
  },
  {
   "cell_type": "code",
   "execution_count": 18,
   "metadata": {},
   "outputs": [
    {
     "data": {
      "text/plain": [
       "['one element', 'another element']"
      ]
     },
     "execution_count": 18,
     "metadata": {},
     "output_type": "execute_result"
    }
   ],
   "source": [
    "link_list"
   ]
  },
  {
   "cell_type": "code",
   "execution_count": 19,
   "metadata": {},
   "outputs": [
    {
     "data": {
      "text/plain": [
       "2"
      ]
     },
     "execution_count": 19,
     "metadata": {},
     "output_type": "execute_result"
    }
   ],
   "source": [
    "len(link_list)"
   ]
  },
  {
   "cell_type": "code",
   "execution_count": 20,
   "metadata": {},
   "outputs": [
    {
     "name": "stdout",
     "output_type": "stream",
     "text": [
      "one element\n",
      "another element\n"
     ]
    }
   ],
   "source": [
    "for element in link_list:\n",
    "    print(element)"
   ]
  },
  {
   "cell_type": "code",
   "execution_count": 21,
   "metadata": {},
   "outputs": [
    {
     "data": {
      "text/plain": [
       "True"
      ]
     },
     "execution_count": 21,
     "metadata": {},
     "output_type": "execute_result"
    }
   ],
   "source": [
    "'one element' in link_list"
   ]
  },
  {
   "cell_type": "code",
   "execution_count": 22,
   "metadata": {},
   "outputs": [
    {
     "data": {
      "text/plain": [
       "False"
      ]
     },
     "execution_count": 22,
     "metadata": {},
     "output_type": "execute_result"
    }
   ],
   "source": [
    "'some other element' in link_list"
   ]
  },
  {
   "cell_type": "markdown",
   "metadata": {},
   "source": [
    "### Context manager"
   ]
  },
  {
   "cell_type": "code",
   "execution_count": 23,
   "metadata": {},
   "outputs": [],
   "source": [
    "class OpenFile:\n",
    "    def __init__(self, filename, mode):\n",
    "        self.filename = filename\n",
    "        self.mode = mode\n",
    "\n",
    "    def __enter__(self):\n",
    "        self.file = open(self.filename, self.mode)\n",
    "        return self.file\n",
    "\n",
    "    def __exit__(self, *args):\n",
    "        self.file.close()"
   ]
  },
  {
   "cell_type": "code",
   "execution_count": 24,
   "metadata": {},
   "outputs": [
    {
     "name": "stdout",
     "output_type": "stream",
     "text": [
      "Så hey Lillemor! (gå væk!) Har du nedtur? (gå væææk!)\n",
      "Spild af tid, så snup en stesolid\n",
      "For problemer er der nok af, hvor end man kigger hen\n",
      "Men hvad rager det mig, nu' det jul igen\n"
     ]
    }
   ],
   "source": [
    "with OpenFile('Text_Files/sample_text.txt', 'r') as f:\n",
    "    print(f.read())"
   ]
  },
  {
   "cell_type": "code",
   "execution_count": null,
   "metadata": {},
   "outputs": [],
   "source": []
  }
 ],
 "metadata": {
  "kernelspec": {
   "display_name": "Python 3",
   "language": "python",
   "name": "python3"
  },
  "language_info": {
   "codemirror_mode": {
    "name": "ipython",
    "version": 3
   },
   "file_extension": ".py",
   "mimetype": "text/x-python",
   "name": "python",
   "nbconvert_exporter": "python",
   "pygments_lexer": "ipython3",
   "version": "3.8.6"
  }
 },
 "nbformat": 4,
 "nbformat_minor": 4
}
