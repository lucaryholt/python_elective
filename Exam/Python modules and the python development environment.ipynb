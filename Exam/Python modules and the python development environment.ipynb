{
 "cells": [
  {
   "cell_type": "markdown",
   "metadata": {},
   "source": [
    "<img src=\"./Images/python-logo.png\" width=\"150\" height=\"150\">\n",
    "\n",
    "# Python modules and the python developments environment\n",
    "\n",
    "### Emner\n",
    "- Køre Python kode\n",
    "  - Læringsmiljø\n",
    "    - REPL\n",
    "    - Jupyter\n",
    "  - Udviklingsmiljø\n",
    "    - Lokalt\n",
    "    - Docker\n",
    "- Modules\n",
    "  - Requests (& json)"
   ]
  },
  {
   "cell_type": "markdown",
   "metadata": {},
   "source": [
    "---"
   ]
  },
  {
   "cell_type": "markdown",
   "metadata": {},
   "source": [
    "## Køre Python kode"
   ]
  },
  {
   "cell_type": "markdown",
   "metadata": {},
   "source": [
    "### Læringsmiljø"
   ]
  },
  {
   "cell_type": "markdown",
   "metadata": {},
   "source": [
    "#### REPL\n",
    "\n",
    "*Read, Evaluate, Print, Loop*\n",
    "\n",
    "<img src=\"./Images/python-repl.png\" width=\"750\">"
   ]
  },
  {
   "cell_type": "markdown",
   "metadata": {},
   "source": [
    "#### Jupyter\n",
    "\n",
    "<img src=\"./Images/jupyter-logo.png\" width=\"150\">\n",
    "\n",
    "- REPL\n",
    "- Kernel"
   ]
  },
  {
   "cell_type": "code",
   "execution_count": 35,
   "metadata": {},
   "outputs": [],
   "source": [
    "x = 5"
   ]
  },
  {
   "cell_type": "code",
   "execution_count": 36,
   "metadata": {},
   "outputs": [
    {
     "data": {
      "text/plain": [
       "5"
      ]
     },
     "execution_count": 36,
     "metadata": {},
     "output_type": "execute_result"
    }
   ],
   "source": [
    "x"
   ]
  },
  {
   "cell_type": "markdown",
   "metadata": {},
   "source": [
    "### Udviklingsmiljø"
   ]
  },
  {
   "cell_type": "markdown",
   "metadata": {},
   "source": [
    "### Scripts\n",
    "\n",
    "*'RE = Read, Evalute'*\n",
    "\n",
    "<img src=\"./Images/python-script-example.png\" width=\"300\">"
   ]
  },
  {
   "cell_type": "markdown",
   "metadata": {},
   "source": [
    "#### Lokalt\n",
    "\n",
    "<img src=\"./Images/python-script-launch.png\" width=\"600\">\n",
    "\n",
    "Fordele\n",
    "- Hurtigt\n",
    "- (Stort set) ingen opsætning\n",
    "\n",
    "Ulemper\n",
    "- Dependency/versions problemer"
   ]
  },
  {
   "cell_type": "markdown",
   "metadata": {},
   "source": [
    "#### Docker\n",
    "\n",
    "<code>docker run -it --rm -v ${PWD}:/docs python bash</code>\n",
    "\n",
    "<img src=\"./Images/python-script-launch-docker.png\" width=\"650\">\n",
    "\n",
    "Fordele\n",
    "- Ingen versionsproblemer\n",
    "- Samme udgangspunkt\n",
    "\n",
    "Ulemper\n",
    "- Mere tidskrævende\n",
    "- Installation af udvidelser"
   ]
  },
  {
   "cell_type": "markdown",
   "metadata": {},
   "source": [
    "#### Resultat\n",
    "\n",
    "<img src=\"./Images/python-script-run.png\" width=\"300\">"
   ]
  },
  {
   "cell_type": "markdown",
   "metadata": {},
   "source": [
    "---"
   ]
  },
  {
   "cell_type": "markdown",
   "metadata": {},
   "source": [
    "## Modules"
   ]
  },
  {
   "cell_type": "markdown",
   "metadata": {},
   "source": [
    "### requests"
   ]
  },
  {
   "cell_type": "code",
   "execution_count": 53,
   "metadata": {},
   "outputs": [
    {
     "data": {
      "text/plain": [
       "{'ip': '212.102.63.184',\n",
       " 'hostname': 'unn-212-102-63-184.cdn77.com',\n",
       " 'city': 'London',\n",
       " 'region': 'England',\n",
       " 'country': 'GB',\n",
       " 'loc': '51.5085,-0.1257',\n",
       " 'org': 'AS60068 Datacamp Limited',\n",
       " 'postal': 'EC2P',\n",
       " 'timezone': 'Europe/London',\n",
       " 'readme': 'https://ipinfo.io/missingauth'}"
      ]
     },
     "execution_count": 53,
     "metadata": {},
     "output_type": "execute_result"
    }
   ],
   "source": [
    "import requests\n",
    "import json\n",
    "\n",
    "result = requests.get('http://ipinfo.io')\n",
    "\n",
    "ip_dict = json.loads(result.content.decode('utf-8'))\n",
    "\n",
    "ip_dict"
   ]
  },
  {
   "cell_type": "code",
   "execution_count": 55,
   "metadata": {},
   "outputs": [
    {
     "data": {
      "text/plain": [
       "'51.5085,-0.1257'"
      ]
     },
     "execution_count": 55,
     "metadata": {},
     "output_type": "execute_result"
    }
   ],
   "source": [
    "ip_dict['loc']"
   ]
  },
  {
   "cell_type": "code",
   "execution_count": 39,
   "metadata": {},
   "outputs": [
    {
     "name": "stdout",
     "output_type": "stream",
     "text": [
      "{\n",
      "    \"data\": [\n",
      "        {\n",
      "            \"enabled\": true,\n",
      "            \"fileName\": \"contextmanagers.html\",\n",
      "            \"links\": [\n",
      "                {\n",
      "                    \"description\": \"Context Managers in Python \\u2014 Go Beyond \\u201cwith open() as file\\u201d | by Yong Cui, Ph.D. | Better Programming | Medium\",\n",
      "                    \"link\": \"https://medium.com/better-programming/context-managers-in-python-go-beyond-with-open-as-file-85a27e392114\"\n",
      "                }\n",
      "            ],\n",
      "            \"searchTerms\": [\n",
      "                \"context managers\"\n",
      "            ],\n",
      "            \"title\": \"Context Managers\"\n",
      "        },\n",
      "        {\n",
      "            \"enabled\": true,\n",
      "            \"fileName\": \"datatypes.html\",\n",
      "            \"links\": [\n",
      "                {\n",
      "                    \"description\": \"W3Schools - Python Data Types\",\n",
      "                    \"link\": \"https://www.w3schools.com/python/python_datatypes.asp\"\n",
      "                },\n",
      "                {\n",
      "                    \"description\": \"W3Schools - Python Strings\",\n",
      "                    \"link\": \"https://www.w3schools.com/python/python_strings.asp\"\n",
      "                },\n",
      "                {\n",
      "                    \"description\": \"W3Schools - Python Strings Methods\",\n",
      "                    \"link\": \"https://www.w3schools.com/python/python_strings_methods.asp\"\n",
      "                },\n",
      "                {\n",
      "                    \"description\": \"W3Schools - Python Numbers\",\n",
      "                    \"link\": \"https://www.w3schools.com/python/python_numbers.asp\"\n",
      "                },\n",
      "                {\n",
      "                    \"description\": \"W3Schools - Python Booleans\",\n",
      "                    \"link\": \"https://www.w3schools.com/python/python_booleans.asp\"\n",
      "                },\n",
      "                {\n",
      "                    \"description\": \"W3Schools - Python range() Function\",\n",
      "                    \"link\": \"https://www.w3schools.com/python/ref_func_range.asp\"\n",
      "                },\n",
      "                {\n",
      "                    \"description\": \"W3Schools - Python frozenset() Function\",\n",
      "                    \"link\": \"https://www.w3schools.com/python/ref_func_frozenset.asp\"\n",
      "                },\n",
      "                {\n",
      "                    \"description\": \"Programiz - Python bytes()\",\n",
      "                    \"link\": \"https://www.programiz.com/python-programming/methods/built-in/bytes\"\n",
      "                },\n",
      "                {\n",
      "                    \"description\": \"Programiz - Python bytearray()\",\n",
      "                    \"link\": \"https://www.programiz.com/python-programming/methods/built-in/bytearray\"\n",
      "                },\n",
      "                {\n",
      "                    \"description\": \"Programiz - Python memoryview()\",\n",
      "                    \"link\": \"https://www.programiz.com/python-programming/methods/built-in/memoryview\"\n",
      "                }\n",
      "            ],\n",
      "            \"searchTerms\": [\n",
      "                \"data types\",\n",
      "                \"string\",\n",
      "                \"integer\",\n",
      "                \"float\",\n",
      "                \"complex\",\n",
      "                \"list\",\n",
      "                \"tuple\",\n",
      "                \"range\",\n",
      "                \"dict\",\n",
      "                \"set\",\n",
      "                \"frozenset\",\n",
      "                \"boolean\",\n",
      "                \"bytes\",\n",
      "                \"bytearray\",\n",
      "                \"memoryview\",\n",
      "                \"python buffer protocol\"\n",
      "            ],\n",
      "            \"title\": \"Data types\"\n",
      "        },\n",
      "        {\n",
      "            \"enabled\": true,\n",
      "            \"fileName\": \"decorators.html\",\n",
      "            \"links\": [\n",
      "                {\n",
      "                    \"description\": \"Real Python - Primer on Python Decorators\",\n",
      "                    \"link\": \"https://realpython.com/primer-on-python-decorators/\"\n",
      "                }\n",
      "            ],\n",
      "            \"searchTerms\": [\n",
      "                \"decorators\"\n",
      "            ],\n",
      "            \"title\": \"Decorators\"\n",
      "        },\n",
      "        {\n",
      "            \"enabled\": true,\n",
      "            \"fileName\": \"dictionariessets.html\",\n",
      "            \"links\": [\n",
      "                {\n",
      "                    \"description\": \"W3Schools - Python Dictionaries\",\n",
      "                    \"link\": \"https://www.w3schools.com/python/python_dictionaries.asp\"\n",
      "                },\n",
      "                {\n",
      "                    \"description\": \"W3Schools - Python Sets\",\n",
      "                    \"link\": \"https://www.w3schools.com/python/python_sets.asp\"\n",
      "                },\n",
      "                {\n",
      "                    \"description\": \"W3Schools - Python Set difference() method\",\n",
      "                    \"link\": \"https://www.w3schools.com/python/ref_set_difference.asp\"\n",
      "                },\n",
      "                {\n",
      "                    \"description\": \"W3Schools - Python Set intersection() method\",\n",
      "                    \"link\": \"https://www.w3schools.com/python/ref_set_intersection.asp\"\n",
      "                }\n",
      "            ],\n",
      "            \"searchTerms\": [\n",
      "                \"dictionary\",\n",
      "                \"dictionaries\",\n",
      "                \"dict\",\n",
      "                \"sets\",\n",
      "                \"union()\",\n",
      "                \"intersection()\",\n",
      "                \"difference()\"\n",
      "            ],\n",
      "            \"title\": \"Dictionaries & Sets\"\n",
      "        },\n",
      "        {\n",
      "            \"enabled\": true,\n",
      "            \"fileName\": \"encapsulation.html\",\n",
      "            \"links\": [\n",
      "                {\n",
      "                    \"description\": \"Python Course - Properties vs. Getters and Setters\",\n",
      "                    \"link\": \"https://www.python-course.eu/python3_properties.php\"\n",
      "                },\n",
      "                {\n",
      "                    \"description\": \"BogoToBogo - Private attributes and methods 2020\",\n",
      "                    \"link\": \"https://www.bogotobogo.com/python/python_private_attributes_methods.php\"\n",
      "                }\n",
      "            ],\n",
      "            \"searchTerms\": [\n",
      "                \"encapsulation\",\n",
      "                \"getters\",\n",
      "                \"setters\"\n",
      "            ],\n",
      "            \"title\": \"Encapsulation\"\n",
      "        },\n",
      "        {\n",
      "            \"enabled\": true,\n",
      "            \"fileName\": \"files.html\",\n",
      "            \"links\": [\n",
      "                {\n",
      "                    \"description\": \"Real Python - Working With Files in Python\",\n",
      "                    \"link\": \"https://realpython.com/working-with-files-in-python\"\n",
      "                }\n",
      "            ],\n",
      "            \"searchTerms\": [\n",
      "                \"files\",\n",
      "                \"directory\",\n",
      "                \"mkdir\",\n",
      "                \"makedirs\",\n",
      "                \"open\",\n",
      "                \"read write\"\n",
      "            ],\n",
      "            \"title\": \"Files\"\n",
      "        },\n",
      "        {\n",
      "            \"enabled\": true,\n",
      "            \"fileName\": \"functions.html\",\n",
      "            \"links\": [\n",
      "                {\n",
      "                    \"description\": \"W3 Schools - Python Functions\",\n",
      "                    \"link\": \"https://www.w3schools.com/python/python_functions.asp\"\n",
      "                },\n",
      "                {\n",
      "                    \"description\": \"Code Maven - Plain function or Callback\",\n",
      "                    \"link\": \"https://code-maven.com/function-or-callback-in-python\"\n",
      "                }\n",
      "            ],\n",
      "            \"searchTerms\": [\n",
      "                \"Functions\",\n",
      "                \"arguments\",\n",
      "                \"*args\",\n",
      "                \"keyword\",\n",
      "                \"**kwargs\"\n",
      "            ],\n",
      "            \"title\": \"Functions\"\n",
      "        },\n",
      "        {\n",
      "            \"enabled\": true,\n",
      "            \"fileName\": \"generators.html\",\n",
      "            \"links\": [\n",
      "                {\n",
      "                    \"description\": \"Real Python - How to Use Generators and yield in Python\",\n",
      "                    \"link\": \"https://realpython.com/introduction-to-python-generators/\"\n",
      "                }\n",
      "            ],\n",
      "            \"searchTerms\": [\n",
      "                \"generators\",\n",
      "                \"yield\",\n",
      "                \"generator expressions\"\n",
      "            ],\n",
      "            \"title\": \"Generators\"\n",
      "        },\n",
      "        {\n",
      "            \"enabled\": true,\n",
      "            \"fileName\": \"jupyter.html\",\n",
      "            \"links\": [\n",
      "                {\n",
      "                    \"description\": \"Project Jupyter - Home\",\n",
      "                    \"link\": \"https://jupyter.org/\"\n",
      "                }\n",
      "            ],\n",
      "            \"searchTerms\": [\n",
      "                \"jupyter\"\n",
      "            ],\n",
      "            \"title\": \"Jupyter Notebook\"\n",
      "        },\n",
      "        {\n",
      "            \"enabled\": true,\n",
      "            \"fileName\": \"liststuples.html\",\n",
      "            \"links\": [\n",
      "                {\n",
      "                    \"description\": \"Real Python - Lists and Tuples in Python\",\n",
      "                    \"link\": \"https://realpython.com/python-lists-tuples/\"\n",
      "                },\n",
      "                {\n",
      "                    \"description\": \"PythonForBeginners - List Comprehensions in Python\",\n",
      "                    \"link\": \"https://www.pythonforbeginners.com/basics/list-comprehensions-in-python\"\n",
      "                }\n",
      "            ],\n",
      "            \"searchTerms\": [\n",
      "                \"lists\",\n",
      "                \"tuples\",\n",
      "                \"comprehensions\",\n",
      "                \"slice\",\n",
      "                \"slicing\"\n",
      "            ],\n",
      "            \"title\": \"Lists and tuples\"\n",
      "        },\n",
      "        {\n",
      "            \"enabled\": true,\n",
      "            \"fileName\": \"loops.html\",\n",
      "            \"links\": [\n",
      "                {\n",
      "                    \"description\": \"Real Python - Python 'for' loops\",\n",
      "                    \"link\": \"https://realpython.com/python-for-loop/\"\n",
      "                },\n",
      "                {\n",
      "                    \"description\": \"Real Python - Python 'while' loops\",\n",
      "                    \"link\": \"https://realpython.com/python-while-loop/\"\n",
      "                }\n",
      "            ],\n",
      "            \"searchTerms\": [\n",
      "                \"for loops\",\n",
      "                \"while loops\"\n",
      "            ],\n",
      "            \"title\": \"Loops\"\n",
      "        },\n",
      "        {\n",
      "            \"enabled\": true,\n",
      "            \"fileName\": \"modulespackages.html\",\n",
      "            \"links\": [\n",
      "                {\n",
      "                    \"description\": \"Real Python - Python Modules and Packages \\u2013 An Introduction\",\n",
      "                    \"link\": \"https://realpython.com/python-modules-packages/\"\n",
      "                }\n",
      "            ],\n",
      "            \"searchTerms\": [\n",
      "                \"Functions\"\n",
      "            ],\n",
      "            \"title\": \"Modules and Packages\"\n",
      "        },\n",
      "        {\n",
      "            \"enabled\": true,\n",
      "            \"fileName\": \"oop.html\",\n",
      "            \"links\": [\n",
      "                {\n",
      "                    \"description\": \"Real Python - Object-Oriented Programming (OOP) in Python 3\",\n",
      "                    \"link\": \"https://realpython.com/python3-object-oriented-programming/\"\n",
      "                }\n",
      "            ],\n",
      "            \"searchTerms\": [\n",
      "                \"oop\"\n",
      "            ],\n",
      "            \"title\": \"OOP in Python\"\n",
      "        },\n",
      "        {\n",
      "            \"enabled\": true,\n",
      "            \"fileName\": \"pip.html\",\n",
      "            \"links\": [\n",
      "                {\n",
      "                    \"description\": \"What is Pip? A Guide for New Pythonistas\",\n",
      "                    \"link\": \"https://realpython.com/what-is-pip/\"\n",
      "                }\n",
      "            ],\n",
      "            \"searchTerms\": [\n",
      "                \"pip\",\n",
      "                \"packages\",\n",
      "                \"modules\"\n",
      "            ],\n",
      "            \"title\": \"PIP\"\n",
      "        },\n",
      "        {\n",
      "            \"enabled\": true,\n",
      "            \"fileName\": \"datamodel.html\",\n",
      "            \"links\": [\n",
      "                {\n",
      "                    \"description\": \"Rafe Kettler - A Guide to Python's Magic Methods\",\n",
      "                    \"link\": \"https://rszalski.github.io/magicmethods/\"\n",
      "                }\n",
      "            ],\n",
      "            \"searchTerms\": [\n",
      "                \"data model\"\n",
      "            ],\n",
      "            \"title\": \"Python Data Model\"\n",
      "        },\n",
      "        {\n",
      "            \"enabled\": true,\n",
      "            \"fileName\": \"requests.html\",\n",
      "            \"links\": [\n",
      "                {\n",
      "                    \"description\": \"Real Python - Python\\u2019s Requests Library (Guide)\",\n",
      "                    \"link\": \"https://realpython.com/python-requests/\"\n",
      "                }\n",
      "            ],\n",
      "            \"searchTerms\": [\n",
      "                \"requests\"\n",
      "            ],\n",
      "            \"title\": \"Requests\"\n",
      "        },\n",
      "        {\n",
      "            \"enabled\": true,\n",
      "            \"fileName\": \"sort.html\",\n",
      "            \"links\": [\n",
      "                {\n",
      "                    \"description\": \"Real Python - How to Use sorted() and sort() in Python\",\n",
      "                    \"link\": \"https://realpython.com/python-sort/\"\n",
      "                }\n",
      "            ],\n",
      "            \"searchTerms\": [\n",
      "                \"sorted()\",\n",
      "                \"sort()\"\n",
      "            ],\n",
      "            \"title\": \"sorted() and sort()\"\n",
      "        }\n",
      "    ]\n",
      "}\n"
     ]
    }
   ],
   "source": [
    "import requests\n",
    "import json\n",
    "\n",
    "result = requests.get('http://knowledge-portal.ryholt.net/api/notes/python')\n",
    "\n",
    "result_dict = json.loads(result.content.decode('utf-8'))\n",
    "\n",
    "print(json.dumps(result_dict, indent=4, sort_keys=True))"
   ]
  },
  {
   "cell_type": "code",
   "execution_count": 40,
   "metadata": {},
   "outputs": [
    {
     "data": {
      "text/plain": [
       "'Context Managers'"
      ]
     },
     "execution_count": 40,
     "metadata": {},
     "output_type": "execute_result"
    }
   ],
   "source": [
    "result_dict['data'][0]['title']"
   ]
  },
  {
   "cell_type": "code",
   "execution_count": 41,
   "metadata": {},
   "outputs": [
    {
     "data": {
      "text/plain": [
       "'https://medium.com/better-programming/context-managers-in-python-go-beyond-with-open-as-file-85a27e392114'"
      ]
     },
     "execution_count": 41,
     "metadata": {},
     "output_type": "execute_result"
    }
   ],
   "source": [
    "result_dict['data'][0]['links'][0]['link']"
   ]
  }
 ],
 "metadata": {
  "kernelspec": {
   "display_name": "Python 3",
   "language": "python",
   "name": "python3"
  },
  "language_info": {
   "codemirror_mode": {
    "name": "ipython",
    "version": 3
   },
   "file_extension": ".py",
   "mimetype": "text/x-python",
   "name": "python",
   "nbconvert_exporter": "python",
   "pygments_lexer": "ipython3",
   "version": "3.8.6"
  }
 },
 "nbformat": 4,
 "nbformat_minor": 4
}
