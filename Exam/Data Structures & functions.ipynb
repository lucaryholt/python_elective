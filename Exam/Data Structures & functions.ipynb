{
 "cells": [
  {
   "cell_type": "markdown",
   "metadata": {},
   "source": [
    "<img src=\"./Images/python-logo.png\" width=\"150\" height=\"150\">\n",
    "\n",
    "# Data Structures & functions\n",
    "\n",
    "### Emner \n",
    "- Funktioner\n",
    "  - Syntax\n",
    "  - First-Class Objects\n",
    "- Data strukturer\n",
    "  - List\n",
    "  - Set\n",
    "  - Tuple\n",
    "  - Dicts\n",
    "  - Fordele, ulemper og use-cases\n",
    "- List comprehensions\n",
    "  - Bedre end normalt loop?"
   ]
  },
  {
   "cell_type": "code",
   "execution_count": null,
   "metadata": {},
   "outputs": [],
   "source": []
  }
 ],
 "metadata": {
  "kernelspec": {
   "display_name": "Python 3",
   "language": "python",
   "name": "python3"
  },
  "language_info": {
   "codemirror_mode": {
    "name": "ipython",
    "version": 3
   },
   "file_extension": ".py",
   "mimetype": "text/x-python",
   "name": "python",
   "nbconvert_exporter": "python",
   "pygments_lexer": "ipython3",
   "version": "3.8.6"
  }
 },
 "nbformat": 4,
 "nbformat_minor": 4
}
